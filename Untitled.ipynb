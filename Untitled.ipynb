{
 "cells": [
  {
   "cell_type": "code",
   "execution_count": 209,
   "id": "7b36f92e",
   "metadata": {},
   "outputs": [],
   "source": [
    "import math\n",
    "import numpy as np\n",
    "import matplotlib.pyplot as plt"
   ]
  },
  {
   "cell_type": "code",
   "execution_count": 210,
   "id": "0161479a",
   "metadata": {},
   "outputs": [],
   "source": [
    "l = 89\n",
    "h = 49\n",
    "beta_1 = math.radians(11.5)\n",
    "A = l * math.sin(beta_1)\n",
    "B = l * math.cos(beta_1)"
   ]
  },
  {
   "cell_type": "code",
   "execution_count": 211,
   "id": "06dbc780",
   "metadata": {},
   "outputs": [],
   "source": [
    "def function(D):\n",
    "    C = (h + 0.5 * D) * math.sin(beta_1) - (0.5 * D * math.tan(beta_1))\n",
    "    E = (h + 0.5 * D) * math.cos(beta_1) - (0.5 * D)\n",
    "    fn = lambda x: (A * math.sin(x) * math.cos(x)) + (B * (math.sin(x))**2) - (C * math.cos(x)) - (E * math.sin(x))\n",
    "    dfn = lambda x: (A * math.cos(2*x)) + (B * math.sin(2*x)) + (C * math.sin(x)) - (E * math.cos(x))\n",
    "    return fn, dfn"
   ]
  },
  {
   "cell_type": "code",
   "execution_count": 212,
   "id": "c70fa96b",
   "metadata": {},
   "outputs": [],
   "source": [
    "def bisection(a,b):\n",
    "    if (fn(a) * fn(b) >= 0):\n",
    "        print(\"Not assumed right a and b \\n\")\n",
    "        return\n",
    "    c = a\n",
    "    while ((math.degrees(b)-math.degrees(a) >= 1)):\n",
    "        c = (a+b)/2                  # Find middle point\n",
    "        if (fn(c) == 0.0):           # Check if middle point is root\n",
    "            break \n",
    "        if (fn(c)*fn(a) < 0):        # Decide the side to repeat the steps\n",
    "            b = c\n",
    "        else:\n",
    "            a = c\n",
    "    return (a+b)/2"
   ]
  },
  {
   "cell_type": "code",
   "execution_count": 213,
   "id": "2e4abf5c",
   "metadata": {},
   "outputs": [],
   "source": [
    "def newton(fn, dfn, y0, tol, max_iter):\n",
    "    yn = y0\n",
    "    for n in range(0, max_iter):\n",
    "        fyn = fn(yn)    \n",
    "        if abs(fyn) < tol:  \n",
    "            print('Found solution after iterations =', n)\n",
    "            return yn\n",
    "        dfyn = dfn(yn)  \n",
    "        if dfyn == 0:\n",
    "            print('Zero derivative. No solution found.')\n",
    "            return None\n",
    "        yn = yn - fyn/dfyn\n",
    "    print('Maximum iterations exhausted. No solution found.')\n",
    "    return None"
   ]
  },
  {
   "cell_type": "code",
   "execution_count": 214,
   "id": "d807a7ca",
   "metadata": {},
   "outputs": [],
   "source": [
    "tol = 0.0001\n",
    "max_it = 1000\n",
    "a = math.radians(0)\n",
    "b = math.radians(90)\n",
    "X = []  \n",
    "Y = []"
   ]
  },
  {
   "cell_type": "code",
   "execution_count": 215,
   "id": "e5334b93",
   "metadata": {},
   "outputs": [
    {
     "name": "stdout",
     "output_type": "stream",
     "text": [
      "Initial approximation of alpha = 33.3984375\n",
      "Found solution after iterations = 2\n",
      "D =  30 alpha =  33.16890382492756\n",
      "Initial approximation of alpha = 33.3984375\n",
      "Found solution after iterations = 2\n",
      "D =  35 alpha =  33.12952279948421\n",
      "Initial approximation of alpha = 33.3984375\n",
      "Found solution after iterations = 2\n",
      "D =  40 alpha =  33.09015943347842\n",
      "Initial approximation of alpha = 33.3984375\n",
      "Found solution after iterations = 2\n",
      "D =  45 alpha =  33.05081368534032\n",
      "Initial approximation of alpha = 32.6953125\n",
      "Found solution after iterations = 2\n",
      "D =  50 alpha =  33.01148549487167\n",
      "Initial approximation of alpha = 32.6953125\n",
      "Found solution after iterations = 2\n",
      "D =  55 alpha =  32.972174833310156\n",
      "Initial approximation of alpha = 32.6953125\n",
      "Found solution after iterations = 2\n",
      "D =  60 alpha =  32.932881663176495\n",
      "Initial approximation of alpha = 32.6953125\n",
      "Found solution after iterations = 2\n",
      "D =  65 alpha =  32.89360594201206\n",
      "Initial approximation of alpha = 32.6953125\n",
      "Found solution after iterations = 2\n",
      "D =  70 alpha =  32.854347627585554\n",
      "Initial approximation of alpha = 32.6953125\n",
      "Found solution after iterations = 2\n",
      "D =  75 alpha =  32.81510667789339\n",
      "Initial approximation of alpha = 32.6953125\n",
      "Found solution after iterations = 1\n",
      "D =  80 alpha =  32.775963253781455\n",
      "Initial approximation of alpha = 32.6953125\n",
      "Found solution after iterations = 1\n",
      "D =  85 alpha =  32.73669784017953\n",
      "Initial approximation of alpha = 32.6953125\n",
      "Found solution after iterations = 1\n",
      "D =  90 alpha =  32.69748765903048\n",
      "Initial approximation of alpha = 32.6953125\n",
      "Found solution after iterations = 1\n",
      "D =  95 alpha =  32.65833259387764\n"
     ]
    }
   ],
   "source": [
    "for D in range(30,100,5):\n",
    "    fn, dfn = function(D)\n",
    "    x0 = bisection(a, b)\n",
    "    print('Initial approximation of alpha =', math.degrees(x0)) \n",
    "    solution = math.degrees(newton(fn, dfn, x0, tol, max_it)) \n",
    "    print(\"D = \", D, \"alpha = \", solution)\n",
    "    X.append(solution)\n",
    "    Y.append(D)"
   ]
  },
  {
   "cell_type": "code",
   "execution_count": 216,
   "id": "ec045dcd",
   "metadata": {
    "scrolled": true
   },
   "outputs": [
    {
     "data": {
      "image/png": "[encoded data removed]",
      "text/plain": [
       "<Figure size 720x720 with 1 Axes>"
      ]
     },
     "metadata": {
      "needs_background": "light"
     },
     "output_type": "display_data"
    }
   ],
   "source": [
    "plt.figure(figsize=(10, 10)) \n",
    "plt.plot(X,Y,'go-')\n",
    "plt.yticks(np.arange(30, 105, 5)) \n",
    "plt.xlabel(r'$ \\alpha$ (degree)') \n",
    "plt.ylabel('D (inch)') \n",
    "plt.show()"
   ]
  },
  {
   "cell_type": "code",
   "execution_count": null,
   "id": "e6a9574e",
   "metadata": {},
   "outputs": [],
   "source": []
  }
 ],
 "metadata": {
  "kernelspec": {
   "display_name": "Python 3 (ipykernel)",
   "language": "python",
   "name": "python3"
  },
  "language_info": {
   "codemirror_mode": {
    "name": "ipython",
    "version": 3
   },
   "file_extension": ".py",
   "mimetype": "text/x-python",
   "name": "python",
   "nbconvert_exporter": "python",
   "pygments_lexer": "ipython3",
   "version": "3.9.6"
  }
 },
 "nbformat": 4,
 "nbformat_minor": 5
}
